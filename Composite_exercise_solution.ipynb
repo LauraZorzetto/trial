{
 "cells": [
  {
   "cell_type": "markdown",
   "id": "409bc536-96a8-41c1-9742-7f8521173ae2",
   "metadata": {},
   "source": [
    "# Numerical Exercise: calculate elastic stiffness, shear stiffness and Poisson ratio\n",
    "\n",
    "The aim of this exercise is to calculate elastic stiffness, shear stiffness and Poisson ratio of a unidirectional glass fibre composite starting from the fibre and matrix properties as a function of the volume fraction of the fibres. \n",
    "\n",
    "__Fibre properties:__\n",
    "\n",
    "Elastic modulus = 70 GPa\n",
    "\n",
    "Poisson ratio = 0.17\n",
    "\n",
    "Volume fraction = 0 - 100%\n",
    "\n",
    "__Matrix properties:__\n",
    "\n",
    "Elastic modulus = 2.85 GPa\n",
    "\n",
    "Poisson ratio = 0.33\n"
   ]
  },
  {
   "cell_type": "markdown",
   "id": "9906a365-14b0-4c73-a807-1da5d0ecc370",
   "metadata": {},
   "source": [
    "__Feeding the starting data to the code and importing the necessary libraries__"
   ]
  },
  {
   "cell_type": "code",
   "execution_count": null,
   "id": "0c716c23-fcde-4317-b9fc-fd67d94d2e1c",
   "metadata": {},
   "outputs": [],
   "source": [
    "!pip install numpy\n",
    "!pip install matplotlib"
   ]
  },
  {
   "cell_type": "code",
   "execution_count": null,
   "id": "329771c0-f4fe-461c-b979-05182ca0e496",
   "metadata": {},
   "outputs": [],
   "source": [
    "import numpy as np\n",
    "import matplotlib.pyplot as plt\n",
    "\n",
    "# Fibre properties\n",
    "E_fibre = 70\n",
    "nu_fibre = 0.17\n",
    "G_fibre = E_fibre/(2*(1+nu_fibre))\n",
    "fibre_fraction = np.arange(0, 1.025, 0.025)\n",
    "\n",
    "# Matrix properties\n",
    "E_matrix = 2.85\n",
    "nu_matrix = 0.33\n",
    "G_matrix = E_matrix/(2*(1+nu_matrix))\n",
    "matrix_fraction = 1 - fibre_fraction"
   ]
  },
  {
   "cell_type": "markdown",
   "id": "3a42cc0c-47f0-471a-b6ac-7353e56909e3",
   "metadata": {},
   "source": [
    "## Exercise 1: calculate Young modulus and plot it as a function of fibre volume fraction"
   ]
  },
  {
   "cell_type": "code",
   "execution_count": null,
   "id": "7f06e7b4-c1ef-494f-88c7-b6eea438fa6d",
   "metadata": {},
   "outputs": [],
   "source": [
    "# Young's Modulus\n",
    "# Axial stiffness (Equal strain - Voigt modulus)\n",
    "E_x = fibre_fraction * E_fibre + matrix_fraction * E_matrix\n",
    "\n",
    "# Transverse stiffness (Equal stress - Reuss modulus)\n",
    "E_y = 1 / (fibre_fraction / E_fibre + matrix_fraction / E_matrix)\n",
    "\n",
    "\n",
    "%matplotlib inline\n",
    "plt.figure(1)\n",
    "plt.plot(fibre_fraction, E_x, linewidth=2, label='E_x')\n",
    "plt.plot(fibre_fraction, E_y, linewidth=2, label='E_y')\n",
    "plt.title('Elastic stiffness as a function of fiber volume fraction')\n",
    "plt.xlabel('Fibre fraction')\n",
    "plt.ylabel('Young modulus')\n",
    "plt.legend(loc='best')\n",
    "plt.grid(True)\n",
    "plt.show()"
   ]
  },
  {
   "cell_type": "markdown",
   "id": "dd086873-5f22-41aa-9eda-c13b02a797de",
   "metadata": {},
   "source": [
    "## Exercise 2 : calculate shear modulus and plot it as a function of fibre volume fraction"
   ]
  },
  {
   "cell_type": "code",
   "execution_count": null,
   "id": "4541acce-bc9d-4102-9dc3-4b1d8e368772",
   "metadata": {},
   "outputs": [],
   "source": [
    "# Shear stiffness\n",
    "G_xy = 1 / (fibre_fraction / G_fibre + matrix_fraction / G_matrix)\n",
    "\n",
    "\n",
    "%matplotlib inline\n",
    "plt.figure(2)\n",
    "plt.plot(fibre_fraction, G_xy, linewidth=2, label='G_xy')\n",
    "plt.title('Shear stiffness as a function of fiber volume fraction')\n",
    "plt.xlabel('Fibre fraction')\n",
    "plt.ylabel('Shear modulus')\n",
    "plt.legend(loc='best')\n",
    "plt.grid(True)\n",
    "plt.show()"
   ]
  },
  {
   "cell_type": "markdown",
   "id": "14bf2cf7-ae2e-4b16-b318-aab4060e0aed",
   "metadata": {},
   "source": [
    "## Exercise 3 : calculate Poisson ratio and plot it as a function of fibre volume fraction"
   ]
  },
  {
   "cell_type": "code",
   "execution_count": null,
   "id": "03ef16bb-b98b-4ca6-94ca-d829b5a05246",
   "metadata": {},
   "outputs": [],
   "source": [
    "# Poisson contraction effect\n",
    "nu_xy = fibre_fraction * nu_fibre + matrix_fraction * nu_matrix\n",
    "\n",
    "%matplotlib inline\n",
    "plt.figure(3)\n",
    "plt.plot(fibre_fraction, nu_xy, linewidth=2, label='nu_xy')\n",
    "plt.title('Poisson ratio as a function of fiber volume fraction')\n",
    "plt.xlabel('Fibre fraction')\n",
    "plt.ylabel('Poisson ratio')\n",
    "plt.legend(loc='best')\n",
    "plt.grid(True)\n",
    "plt.show()"
   ]
  },
  {
   "cell_type": "code",
   "execution_count": null,
   "id": "1cc686c0-3add-419b-abe3-f5e5dfd63a61",
   "metadata": {},
   "outputs": [],
   "source": []
  }
 ],
 "metadata": {
  "kernelspec": {
   "display_name": "Python 3 (ipykernel)",
   "language": "python",
   "name": "python3"
  },
  "language_info": {
   "codemirror_mode": {
    "name": "ipython",
    "version": 3
   },
   "file_extension": ".py",
   "mimetype": "text/x-python",
   "name": "python",
   "nbconvert_exporter": "python",
   "pygments_lexer": "ipython3",
   "version": "3.12.0"
  }
 },
 "nbformat": 4,
 "nbformat_minor": 5
}
